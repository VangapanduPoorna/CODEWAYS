{
  "nbformat": 4,
  "nbformat_minor": 0,
  "metadata": {
    "colab": {
      "provenance": []
    },
    "kernelspec": {
      "name": "python3",
      "display_name": "Python 3"
    },
    "language_info": {
      "name": "python"
    }
  },
  "cells": [
    {
      "cell_type": "code",
      "execution_count": 3,
      "metadata": {
        "colab": {
          "base_uri": "https://localhost:8080/"
        },
        "id": "8bFwAaw5pIgU",
        "outputId": "8bf18faf-4034-4c3e-d32d-b423b5f191c0"
      },
      "outputs": [
        {
          "output_type": "stream",
          "name": "stdout",
          "text": [
            "\n",
            "1. Add Task\n",
            "2. View Tasks\n",
            "3. Update Task\n",
            "4. Delete Task\n",
            "5. Exit\n",
            "Enter your choice: 1\n",
            "Enter task description: class work\n",
            "Task added successfully.\n",
            "\n",
            "1. Add Task\n",
            "2. View Tasks\n",
            "3. Update Task\n",
            "4. Delete Task\n",
            "5. Exit\n",
            "Enter your choice: 2\n",
            "Tasks:\n",
            "1. class work\n",
            "\n",
            "1. Add Task\n",
            "2. View Tasks\n",
            "3. Update Task\n",
            "4. Delete Task\n",
            "5. Exit\n",
            "Enter your choice: 5\n",
            "Exiting program.\n"
          ]
        }
      ],
      "source": [
        "tasks = []\n",
        "\n",
        "def add_task(task):\n",
        "    tasks.append(task)\n",
        "    print(\"Task added successfully.\")\n",
        "\n",
        "def view_tasks():\n",
        "    if not tasks:\n",
        "        print(\"No tasks.\")\n",
        "    else:\n",
        "        print(\"Tasks:\")\n",
        "        for i, task in enumerate(tasks, 1):\n",
        "            print(f\"{i}. {task}\")\n",
        "\n",
        "def update_task(index, new_task):\n",
        "    if index >= len(tasks) or index < 0:\n",
        "        print(\"Invalid task index.\")\n",
        "    else:\n",
        "        tasks[index] = new_task\n",
        "        print(\"Task updated successfully.\")\n",
        "\n",
        "def delete_task(index):\n",
        "    if index >= len(tasks) or index < 0:\n",
        "        print(\"Invalid task index.\")\n",
        "    else:\n",
        "        del tasks[index]\n",
        "        print(\"Task deleted successfully.\")\n",
        "\n",
        "def main():\n",
        "    while True:\n",
        "        print(\"\\n1. Add Task\\n2. View Tasks\\n3. Update Task\\n4. Delete Task\\n5. Exit\")\n",
        "        choice = input(\"Enter your choice: \")\n",
        "\n",
        "        if choice == '1':\n",
        "            task = input(\"Enter task description: \")\n",
        "            add_task(task)\n",
        "        elif choice == '2':\n",
        "            view_tasks()\n",
        "        elif choice == '3':\n",
        "            index = int(input(\"Enter index of the task to update: \"))\n",
        "            new_task = input(\"Enter new task description: \")\n",
        "            update_task(index - 1, new_task)\n",
        "        elif choice == '4':\n",
        "            index = int(input(\"Enter index of the task to delete: \"))\n",
        "            delete_task(index - 1)\n",
        "        elif choice == '5':\n",
        "            print(\"Exiting program.\")\n",
        "            break\n",
        "        else:\n",
        "            print(\"Invalid choice. Please try again.\")\n",
        "\n",
        "if __name__ == \"__main__\":\n",
        "    main()\n"
      ]
    }
  ]
}